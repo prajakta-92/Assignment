{
 "cells": [
  {
   "cell_type": "markdown",
   "id": "935d20da",
   "metadata": {},
   "source": [
    "# Write a Python program to sum of three given integers. However, if two values are equal sum will be zero."
   ]
  },
  {
   "cell_type": "code",
   "execution_count": 16,
   "id": "25955752",
   "metadata": {},
   "outputs": [
    {
     "name": "stdout",
     "output_type": "stream",
     "text": [
      "0\n",
      "0\n",
      "0\n",
      "6\n"
     ]
    }
   ],
   "source": [
    "def sum_three(x,y,z):\n",
    "    \n",
    "    if x==y or y==z or x==z:\n",
    "        sum=0\n",
    "    else:\n",
    "        sum=x+y+z\n",
    "    return sum\n",
    "print (sum_three(2,1,2))\n",
    "print (sum_three(3,2,2)) \n",
    "print (sum_three(2,2,2))\n",
    "print (sum_three(1,2,3))\n",
    "    \n"
   ]
  },
  {
   "cell_type": "markdown",
   "id": "a5c7e4d5",
   "metadata": {},
   "source": [
    "# Write a Python program to test whether a passed letter is a vowel or not."
   ]
  },
  {
   "cell_type": "code",
   "execution_count": 4,
   "id": "5f53dba9",
   "metadata": {},
   "outputs": [],
   "source": [
    "def fun(str):\n",
    "    vowel = ['a','e','i','o','u','A','E','I','O','U']\n",
    "    if str == vowel:\n",
    "        print (\"it is a vowel\")\n",
    "    else:\n",
    "        print (\"it is not vowel\")\n",
    "        \n",
    "        \n",
    "        "
   ]
  },
  {
   "cell_type": "code",
   "execution_count": 5,
   "id": "9e6bc7cf",
   "metadata": {},
   "outputs": [
    {
     "name": "stdout",
     "output_type": "stream",
     "text": [
      "it is not vowel\n",
      "it is not vowel\n"
     ]
    }
   ],
   "source": [
    "fun('a')\n",
    "fun('A')"
   ]
  },
  {
   "cell_type": "markdown",
   "id": "5b33a9e4",
   "metadata": {},
   "source": [
    "\n",
    "# Write python program that swap two number with temp variable and without temp variable.\n",
    "[ ]\n"
   ]
  },
  {
   "cell_type": "code",
   "execution_count": 2,
   "id": "d3ea9b4a",
   "metadata": {},
   "outputs": [
    {
     "name": "stdout",
     "output_type": "stream",
     "text": [
      "The value of p after swapping:10\n",
      "The value of q after swapping:5\n"
     ]
    }
   ],
   "source": [
    "p = 5\n",
    "q = 10\n",
    "# To take inputs from the user\n",
    "#p = input ('Enter value of p:')\n",
    "#q = input ('Enter value of q:')\n",
    "\n",
    "# create a temp variable and swap the values\n",
    "temp = p\n",
    "p = q\n",
    "q = temp\n",
    "\n",
    "print('The value of p after swapping:{}'.format(p))\n",
    "print('The value of q after swapping:{}'.format(q))"
   ]
  },
  {
   "cell_type": "markdown",
   "id": "50e792c0",
   "metadata": {},
   "source": [
    "# Write a Python program to calculate the length of a string.\n"
   ]
  },
  {
   "cell_type": "code",
   "execution_count": 3,
   "id": "a46a3de0",
   "metadata": {},
   "outputs": [
    {
     "name": "stdout",
     "output_type": "stream",
     "text": [
      "enter a string:\n",
      "lenght of the input string is: 0\n"
     ]
    }
   ],
   "source": [
    "str = input(\"enter a string:\")\n",
    "print(\"lenght of the input string is:\",len(str))"
   ]
  },
  {
   "cell_type": "markdown",
   "id": "8cdd48f2",
   "metadata": {},
   "source": [
    "# Write a Python program to find whether a given number is even or odd,print out an appropriate message to the user."
   ]
  },
  {
   "cell_type": "code",
   "execution_count": 6,
   "id": "9451d57f",
   "metadata": {},
   "outputs": [
    {
     "name": "stdout",
     "output_type": "stream",
     "text": [
      "enter a number:15\n",
      "the number is odd\n"
     ]
    }
   ],
   "source": [
    "num=int (input (\"enter a number:\"))\n",
    "if (num % 2) == 0:\n",
    "    print (\"the number is even\")\n",
    "else:\n",
    "    print (\"the number is odd\")"
   ]
  },
  {
   "cell_type": "markdown",
   "id": "edf2d26b",
   "metadata": {},
   "source": [
    "# write a programme to find biggest number of given three values."
   ]
  },
  {
   "cell_type": "code",
   "execution_count": 7,
   "id": "594aea6d",
   "metadata": {},
   "outputs": [
    {
     "name": "stdout",
     "output_type": "stream",
     "text": [
      "the biggest number is 25\n"
     ]
    }
   ],
   "source": [
    "num1 =2\n",
    "num2 =10\n",
    "num3 =25\n",
    "if (num1>=num2) and (num1>=num3):\n",
    "    biggest=num1\n",
    "elif(num2>=num1) and (num2>=num3):\n",
    "    biggest=num2\n",
    "else:\n",
    "     biggest=num3\n",
    "     print(\"the biggest number is\",biggest)\n",
    "     \n",
    "     \n",
    "     \n"
   ]
  },
  {
   "cell_type": "markdown",
   "id": "153b3682",
   "metadata": {},
   "source": [
    "# Write a Python program that will return true if the two given integer values are equal or their sum or difference is 5."
   ]
  },
  {
   "cell_type": "code",
   "execution_count": 15,
   "id": "a1a4a1d0",
   "metadata": {},
   "outputs": [
    {
     "name": "stdout",
     "output_type": "stream",
     "text": [
      "True\n",
      "True\n",
      "True\n",
      "False\n",
      "False\n"
     ]
    }
   ],
   "source": [
    "def test_number5(x, y):\n",
    "   if x == y or abs(x-y) == 5 or (x+y) == 5:\n",
    "       return True\n",
    "   else:\n",
    "       return False\n",
    "print(test_number5(7, 2))\n",
    "print(test_number5(3, 2))\n",
    "print(test_number5(2, 2))\n",
    "print(test_number5(7, 3))\n",
    "print(test_number5(27, 53))"
   ]
  },
  {
   "cell_type": "markdown",
   "id": "ee9d7e02",
   "metadata": {},
   "source": [
    "# Write a python program to sum of the first n positive integers."
   ]
  },
  {
   "cell_type": "code",
   "execution_count": 10,
   "id": "0e935532",
   "metadata": {},
   "outputs": [
    {
     "name": "stdout",
     "output_type": "stream",
     "text": [
      "input a number:7\n",
      "sum of the first 7 positive integers: 28.0\n"
     ]
    }
   ],
   "source": [
    "n = int(input(\"input a number:\"))\n",
    "sum_sum=(n*(n+1))/2\n",
    "print (\"sum of the first\",n,\"positive integers:\",sum_sum)"
   ]
  },
  {
   "cell_type": "markdown",
   "id": "2e13f4a9",
   "metadata": {},
   "source": [
    "## Write a Python program to calculate the length of a string."
   ]
  },
  {
   "cell_type": "code",
   "execution_count": 9,
   "id": "31ea3f58",
   "metadata": {},
   "outputs": [
    {
     "name": "stdout",
     "output_type": "stream",
     "text": [
      "enter a string:advait\n",
      "length of the input string is: 6\n"
     ]
    }
   ],
   "source": [
    "str = input (\"enter a string:\")\n",
    "print(\"length of the input string is:\",len(str))"
   ]
  },
  {
   "cell_type": "markdown",
   "id": "5012b72b",
   "metadata": {},
   "source": [
    "# What is the purpose continue statement in python?"
   ]
  },
  {
   "cell_type": "code",
   "execution_count": 11,
   "id": "39af1e7a",
   "metadata": {},
   "outputs": [
    {
     "name": "stdout",
     "output_type": "stream",
     "text": [
      "10\n",
      "out of loop\n"
     ]
    }
   ],
   "source": [
    "number =0\n",
    "for a in range(10):\n",
    "    number =a+1\n",
    "if number ==5:\n",
    "    'continue'\n",
    "print (number)\n",
    "print (\"out of loop\")\n",
    "    "
   ]
  },
  {
   "cell_type": "markdown",
   "id": "1d914918",
   "metadata": {},
   "source": [
    "# Write a Python program to add 'ing' at the end of a given string (length should be at least 3). If the given string already ends with 'ing' then add 'ly' instead if the string length of the given string is less than 3, leave it unchanged."
   ]
  },
  {
   "cell_type": "code",
   "execution_count": 14,
   "id": "949d3c13",
   "metadata": {},
   "outputs": [
    {
     "name": "stdout",
     "output_type": "stream",
     "text": [
      "ab\n",
      "abcing\n",
      "stringly\n"
     ]
    }
   ],
   "source": [
    "def add_string(str1):\n",
    "  length = len(str1)\n",
    "\n",
    "  if length > 2:\n",
    "    if str1[-3:] == 'ing':\n",
    "      str1 += 'ly'\n",
    "    else:\n",
    "      str1 += 'ing'\n",
    "\n",
    "  return str1\n",
    "print(add_string('ab'))\n",
    "print(add_string('abc'))\n",
    "print(add_string('string'))"
   ]
  },
  {
   "cell_type": "markdown",
   "id": "43cd352a",
   "metadata": {},
   "source": [
    "# Write a Python program to find the first appearance of the substring 'not' and 'poor' from a given string, if 'not' follows the 'poor', replace the whole 'not'...'poor' substring with 'good'. Return the resulting string"
   ]
  },
  {
   "cell_type": "code",
   "execution_count": 15,
   "id": "2f2c65f4",
   "metadata": {},
   "outputs": [
    {
     "name": "stdout",
     "output_type": "stream",
     "text": [
      "the lyrics is good |\n",
      "the lyrics is poor |\n"
     ]
    }
   ],
   "source": [
    "def not_poor(str1):\n",
    "    snot = str1.find('not')\n",
    "    spoor = str1.find('poor')\n",
    "    \n",
    "    if spoor>snot and snot>0 and spoor>0:\n",
    "        str1 = str1. replace(str1[snot:(spoor+4)],'good')\n",
    "        return str1\n",
    "    else:\n",
    "        return str1\n",
    "print (not_poor('the lyrics is not that poor |'))\n",
    "print(not_poor('the lyrics is poor |'))\n",
    "    "
   ]
  },
  {
   "cell_type": "markdown",
   "id": "e5ddb4ac",
   "metadata": {},
   "source": [
    "# Write a Python function to insert a string in the middle of a string."
   ]
  },
  {
   "cell_type": "code",
   "execution_count": 16,
   "id": "584866ad",
   "metadata": {},
   "outputs": [
    {
     "name": "stdout",
     "output_type": "stream",
     "text": [
      "[[Python]]\n",
      "{{PHP}}\n",
      "[[HTML]]\n"
     ]
    }
   ],
   "source": [
    "def insert_string_middle(str,word):\n",
    "    return str[:2]+word+str[2:]\n",
    "\n",
    "print(insert_string_middle('[[]]','Python'))\n",
    "print(insert_string_middle('{{}}','PHP'))\n",
    "print(insert_string_middle('[[]]','HTML'))"
   ]
  },
  {
   "cell_type": "markdown",
   "id": "1e9c73fe",
   "metadata": {},
   "source": [
    "# reverses a string if its length is a multiple of 4."
   ]
  },
  {
   "cell_type": "code",
   "execution_count": 17,
   "id": "a6cc9443",
   "metadata": {},
   "outputs": [
    {
     "name": "stdout",
     "output_type": "stream",
     "text": [
      "dcba\n",
      "python\n"
     ]
    }
   ],
   "source": [
    "def reverse_string(str1):\n",
    "    if len(str1)%4==0:\n",
    "        return''.join(reversed(str1))\n",
    "    return str1\n",
    "\n",
    "print(reverse_string('abcd'))\n",
    "print(reverse_string('python'))"
   ]
  },
  {
   "cell_type": "markdown",
   "id": "5734b20d",
   "metadata": {},
   "source": [
    "# Write a Python program to get a string made of the first 2 and the last 2 chars from a given a string. If the string length is less than 2, return instead of the empty string.\n",
    "[ ]\n"
   ]
  },
  {
   "cell_type": "code",
   "execution_count": 18,
   "id": "13688c70",
   "metadata": {},
   "outputs": [
    {
     "name": "stdout",
     "output_type": "stream",
     "text": [
      "w3ce\n",
      "w3w3\n",
      "\n"
     ]
    }
   ],
   "source": [
    "def string_both_ends(str):\n",
    "    if len(str)<2:\n",
    "        return''\n",
    "    return str[0:2] + str[-2:]\n",
    "print(string_both_ends('w3resource'))\n",
    "print(string_both_ends('w3'))\n",
    "print(string_both_ends('w'))\n"
   ]
  },
  {
   "cell_type": "markdown",
   "id": "c033aec2",
   "metadata": {},
   "source": [
    "# Write a Python program to get a single string from two given strings, separated by a space and swap the first two characters of each string.\n",
    "[ ]\n"
   ]
  },
  {
   "cell_type": "code",
   "execution_count": 19,
   "id": "bac54279",
   "metadata": {},
   "outputs": [
    {
     "name": "stdout",
     "output_type": "stream",
     "text": [
      "xycabz\n"
     ]
    }
   ],
   "source": [
    "def chars_mix_up(a,b):\n",
    "    new_a =b[:2]+a[2:]\n",
    "    new_b =a[:2]+b[2:]\n",
    "    \n",
    "    return new_a +'' +new_b\n",
    "print(chars_mix_up('abc','xyz'))\n",
    "                  "
   ]
  },
  {
   "cell_type": "markdown",
   "id": "9932363e",
   "metadata": {},
   "source": [
    "# Write a Python program to get the Fibonacci series of given range."
   ]
  },
  {
   "cell_type": "code",
   "execution_count": 1,
   "id": "cd210b8e",
   "metadata": {},
   "outputs": [
    {
     "name": "stdout",
     "output_type": "stream",
     "text": [
      "34\n"
     ]
    }
   ],
   "source": [
    "def Fibonacci (n):\n",
    "    #check if input is 0 then it will\n",
    "    #print incorrect input \n",
    "    if n<0:\n",
    "        print (\"incorrect input\")\n",
    "#check if n is 0\n",
    "#then it will return 0\n",
    "    elif n ==0:\n",
    "        return 0\n",
    "#check if n is 1,2\n",
    "#it will return 1\n",
    "    elif n==1 or n==2:\n",
    "        return 1\n",
    "    else:\n",
    "        return Fibonacci (n-1)+Fibonacci (n-2)\n",
    "print (Fibonacci (9))"
   ]
  },
  {
   "cell_type": "markdown",
   "id": "0eb21b1f",
   "metadata": {},
   "source": [
    "# Write a Python program to get the Factorial number of given number"
   ]
  },
  {
   "cell_type": "code",
   "execution_count": 11,
   "id": "f26e7ff6",
   "metadata": {},
   "outputs": [
    {
     "name": "stdout",
     "output_type": "stream",
     "text": [
      "the factorial of 7 is 1\n"
     ]
    }
   ],
   "source": [
    "num=7\n",
    "factorial=1\n",
    "\n",
    "if num<0:\n",
    "    print (\"sorry,factorial does not exist for negative number\")\n",
    "elif num==0:\n",
    "    print(\"the factorial of 0 is 1\")\n",
    "else:\n",
    "    for i in  range(1,num+1):\n",
    "        factorial=factorial*1\n",
    "    print(\"the factorial of\",num,\"is\",factorial)"
   ]
  },
  {
   "cell_type": "markdown",
   "id": "de4cd75a",
   "metadata": {},
   "source": [
    "# Write a Python program to check if a number is positive, negative or zero"
   ]
  },
  {
   "cell_type": "code",
   "execution_count": 16,
   "id": "2de59263",
   "metadata": {},
   "outputs": [
    {
     "name": "stdout",
     "output_type": "stream",
     "text": [
      "Enter a number: 1\n",
      "Positive number\n"
     ]
    }
   ],
   "source": [
    "num = float(input(\"Enter a number: \"))\n",
    "if num > 0:\n",
    "   print(\"Positive number\")\n",
    "elif num == 0:\n",
    "   print(\"Zero\")\n",
    "else:\n",
    "   print(\"Negative number\")"
   ]
  },
  {
   "cell_type": "markdown",
   "id": "ea29292c",
   "metadata": {},
   "source": [
    "# How memory is managed in Python?\n"
   ]
  },
  {
   "cell_type": "code",
   "execution_count": 17,
   "id": "47d9176c",
   "metadata": {},
   "outputs": [],
   "source": [
    "x = 20\n",
    "y = [] \n",
    "z = \"\" "
   ]
  },
  {
   "cell_type": "code",
   "execution_count": 18,
   "id": "6dd87e0b",
   "metadata": {},
   "outputs": [],
   "source": [
    "x = [0]*5  #This memory for 5 integers is allocated on heap.  "
   ]
  },
  {
   "cell_type": "code",
   "execution_count": 19,
   "id": "52a81f73",
   "metadata": {},
   "outputs": [],
   "source": [
    "class Test(object):\n",
    "    pass\n",
    "\n",
    "x = Test()\n",
    "x.obj = x\n",
    "del x"
   ]
  },
  {
   "cell_type": "code",
   "execution_count": 20,
   "id": "89806879",
   "metadata": {},
   "outputs": [
    {
     "name": "stdout",
     "output_type": "stream",
     "text": [
      "(700, 10, 10)\n"
     ]
    }
   ],
   "source": [
    "import gc\n",
    "print(gc.get_threshold())"
   ]
  }
 ],
 "metadata": {
  "kernelspec": {
   "display_name": "Python 3 (ipykernel)",
   "language": "python",
   "name": "python3"
  },
  "language_info": {
   "codemirror_mode": {
    "name": "ipython",
    "version": 3
   },
   "file_extension": ".py",
   "mimetype": "text/x-python",
   "name": "python",
   "nbconvert_exporter": "python",
   "pygments_lexer": "ipython3",
   "version": "3.11.4"
  }
 },
 "nbformat": 4,
 "nbformat_minor": 5
}
