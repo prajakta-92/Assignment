{
 "cells": [
  {
   "cell_type": "markdown",
   "id": "df02057b",
   "metadata": {},
   "source": [
    "# What is List? How will you reverse a list?"
   ]
  },
  {
   "cell_type": "code",
   "execution_count": null,
   "id": "d44b5841",
   "metadata": {},
   "outputs": [],
   "source": [
    "A list is an ordered data structure with elements separated by a comma and enclosed within square brackets."
   ]
  },
  {
   "cell_type": "code",
   "execution_count": 1,
   "id": "779b3dc8",
   "metadata": {},
   "outputs": [
    {
     "name": "stdout",
     "output_type": "stream",
     "text": [
      "[6, 2, 1, 4, 3, 2, 1]\n",
      "['a', 'a', 'd', 'c', 'b', 'a']\n"
     ]
    }
   ],
   "source": [
    "# Python3 program to demonstrate the\n",
    "# use of reverse method\n",
    "  \n",
    "# a list of numbers\n",
    "list1 = [1, 2, 3, 4, 1, 2, 6]\n",
    "list1.reverse()\n",
    "print(list1)\n",
    " \n",
    "# a list of characters\n",
    "list2 = ['a', 'b', 'c', 'd', 'a', 'a']\n",
    "list2.reverse()\n",
    "print(list2)"
   ]
  },
  {
   "cell_type": "markdown",
   "id": "43d3e764",
   "metadata": {},
   "source": [
    "# How will you compare two lists?"
   ]
  },
  {
   "cell_type": "code",
   "execution_count": 1,
   "id": "8a9bd6a7",
   "metadata": {},
   "outputs": [
    {
     "name": "stdout",
     "output_type": "stream",
     "text": [
      "The list1 and list2 are equal\n"
     ]
    }
   ],
   "source": [
    "list1 = [11, 12, 13, 14, 15]  \n",
    "list2 = [12, 13, 11, 15, 14]  \n",
    "  \n",
    "a = set(list1)  \n",
    "b = set(list2)  \n",
    "  \n",
    "if a == b:  \n",
    "    print(\"The list1 and list2 are equal\")  \n",
    "else:  \n",
    "    print(\"The list1 and list2 are not equal\")  \n"
   ]
  },
  {
   "cell_type": "markdown",
   "id": "b4718879",
   "metadata": {},
   "source": [
    "# How will you remove last object from a list? Suppose list1 is [2, 33, 222, 14, and 25], what is list1 [-1]?"
   ]
  },
  {
   "cell_type": "code",
   "execution_count": 2,
   "id": "ac4af5d8",
   "metadata": {},
   "outputs": [
    {
     "name": "stdout",
     "output_type": "stream",
     "text": [
      "[25]\n",
      "[14]\n",
      "[222]\n",
      "[33]\n",
      "[2]\n"
     ]
    }
   ],
   "source": [
    "list1=[2,33,222,14,25]\n",
    "print([list1[-1]])\n",
    "print([list1[-2]])\n",
    "print([list1[-3]])\n",
    "print([list1[-4]])\n",
    "print([list1[-5]])"
   ]
  },
  {
   "cell_type": "markdown",
   "id": "219d3799",
   "metadata": {},
   "source": [
    "# Differentiate between append () and extend () methods?"
   ]
  },
  {
   "cell_type": "code",
   "execution_count": 3,
   "id": "89990a0e",
   "metadata": {},
   "outputs": [
    {
     "name": "stdout",
     "output_type": "stream",
     "text": [
      "[3, 4, 5, 6]\n",
      "['6', '8', '10', '3', '11', '9']\n"
     ]
    }
   ],
   "source": [
    "#The append() method in the Python programming language adds an item to a list \n",
    "#that already exists whereas the extend() method \n",
    "#adds each of the iterable elements\n",
    "#which is supplied as a parameter to the end of the original list.\n",
    "\n",
    "#create a list that needs to be appended\n",
    "original_lst = [3,4,5]\n",
    "\n",
    "#use the append function to add an element at the end of the list.\n",
    "original_lst.append(6)\n",
    "print (original_lst)\n",
    "\n",
    "\n",
    "#The extend method in Python is responsible for appending \n",
    "#each iterable (it can be a tuple, any string, or a list)\n",
    "#member to the list's end as well as increasing \n",
    "#the length of the original list by the count of iterable elements \n",
    "#supplied as an argument.\n",
    "# Let's write a program \n",
    "# demonstrate working of extending function.\n",
    "\n",
    "# assign list to values\n",
    "list_one = ['6', '8', '10']\n",
    "\n",
    "# use the extend method \n",
    "list_one.extend(['3', '11', '9'])\n",
    "\n",
    "# displaying the list\n",
    "print(list_one)\n",
    "\n"
   ]
  },
  {
   "cell_type": "markdown",
   "id": "9bd9b3c1",
   "metadata": {},
   "source": [
    "# Write a Python program to find the second smallest number in a list."
   ]
  },
  {
   "cell_type": "code",
   "execution_count": 4,
   "id": "5adebc56",
   "metadata": {},
   "outputs": [
    {
     "name": "stdout",
     "output_type": "stream",
     "text": [
      "Second Smallest element is: 4\n"
     ]
    }
   ],
   "source": [
    "def find_len(list1):\n",
    "    length = len(list1)\n",
    "    list1.sort()\n",
    "    print(\"Second Smallest element is:\", list1[1])\n",
    " \n",
    "# Driver Code\n",
    "list1=[12, 45, 2, 41, 31, 10, 8, 6, 4]\n",
    "Largest = find_len(list1)"
   ]
  },
  {
   "cell_type": "markdown",
   "id": "865c1303",
   "metadata": {},
   "source": [
    "# Write a Python program to find the length of a tuple."
   ]
  },
  {
   "cell_type": "code",
   "execution_count": 5,
   "id": "6db4c2d0",
   "metadata": {},
   "outputs": [
    {
     "name": "stdout",
     "output_type": "stream",
     "text": [
      "('a', 'b', 'c', 'd', 'e', 'f')\n",
      "6\n"
     ]
    }
   ],
   "source": [
    "#create a tuple\n",
    "tuplex = tuple(\"abcdef\")\n",
    "print(tuplex)\n",
    "#use the len() function to known the length of tuple\n",
    "print(len(tuplex))\n"
   ]
  },
  {
   "cell_type": "markdown",
   "id": "c345f3d4",
   "metadata": {},
   "source": [
    "# Write a Python program to reverse a tuple."
   ]
  },
  {
   "cell_type": "code",
   "execution_count": 6,
   "id": "df22d09d",
   "metadata": {},
   "outputs": [
    {
     "name": "stdout",
     "output_type": "stream",
     "text": [
      "('d', 'c', 'b', 'a')\n"
     ]
    }
   ],
   "source": [
    "def Reverse(tuples):\n",
    "    new_tup = tuples[::-1]\n",
    "    return new_tup\n",
    "     \n",
    "# Driver Code\n",
    "tuples = ('a','b','c','d')\n",
    "print(Reverse(tuples))"
   ]
  },
  {
   "cell_type": "markdown",
   "id": "46ed3438",
   "metadata": {},
   "source": [
    "# Write a Python program to remove duplicates from a list."
   ]
  },
  {
   "cell_type": "code",
   "execution_count": 7,
   "id": "a517b4ec",
   "metadata": {},
   "outputs": [
    {
     "name": "stdout",
     "output_type": "stream",
     "text": [
      "[2, 4, 10, 20, 5]\n"
     ]
    }
   ],
   "source": [
    "def Remove(duplicate):\n",
    "    final_list = []\n",
    "    for num in duplicate:\n",
    "        if num not in final_list:\n",
    "            final_list.append(num)\n",
    "    return final_list\n",
    "     \n",
    "duplicate = [2, 4, 10, 20, 5, 10, 20, 4]\n",
    "print(Remove(duplicate))"
   ]
  },
  {
   "cell_type": "markdown",
   "id": "15ca8bef",
   "metadata": {},
   "source": [
    "# Write a Python function that takes a list and returns a new list with unique elements of the first list."
   ]
  },
  {
   "cell_type": "code",
   "execution_count": 13,
   "id": "eb13712c",
   "metadata": {},
   "outputs": [
    {
     "name": "stdout",
     "output_type": "stream",
     "text": [
      "[1, 2, 3, 4, 5]\n"
     ]
    }
   ],
   "source": [
    "def unique_list(l):\n",
    "  x = []\n",
    "  for a in l:\n",
    "    if a not in x:\n",
    "      x.append(a)\n",
    "  return x\n",
    "\n",
    "print(unique_list([1,2,3,3,3,3,4,5])) "
   ]
  },
  {
   "cell_type": "markdown",
   "id": "760e29c5",
   "metadata": {},
   "source": [
    "# Write a Python program to check a list is empty or not."
   ]
  },
  {
   "cell_type": "code",
   "execution_count": 15,
   "id": "f6d8b282",
   "metadata": {},
   "outputs": [
    {
     "name": "stdout",
     "output_type": "stream",
     "text": [
      "Empty List\n"
     ]
    }
   ],
   "source": [
    "def Enquiry(list1):\n",
    "    if len(list1) == 0:\n",
    "        return 0\n",
    "    else:\n",
    "        return 1\n",
    " \n",
    "list1 = []\n",
    "if Enquiry(list1):\n",
    "    print(\"The list is not empty\")\n",
    "else:\n",
    "    print(\"Empty List\")"
   ]
  },
  {
   "cell_type": "markdown",
   "id": "3647002e",
   "metadata": {},
   "source": [
    "# Write a Python function to get the largest number, smallest num and sum of all from a list."
   ]
  },
  {
   "cell_type": "code",
   "execution_count": 6,
   "id": "8f8fbc16",
   "metadata": {},
   "outputs": [
    {
     "name": "stdout",
     "output_type": "stream",
     "text": [
      "How many numbers: 4\n",
      "Enter number 1\n",
      "Enter number 2\n",
      "Enter number 3\n",
      "Enter number 4\n",
      "Maximum element in the list is : 4 \n",
      "Minimum element in the list is : 1\n",
      "14\n"
     ]
    }
   ],
   "source": [
    "lst = []\n",
    "num = int(input('How many numbers: '))\n",
    "for n in range(num):\n",
    "    numbers = int(input('Enter number '))\n",
    "    lst.append(numbers)\n",
    "print(\"Maximum element in the list is :\", max(lst), \"\\nMinimum element in the list is :\", min(lst))\n",
    "\n",
    "numbers = [1,2,3,4]\n",
    " \n",
    "Sum = sum(numbers, 4)\n",
    "print(Sum)"
   ]
  },
  {
   "cell_type": "markdown",
   "id": "ccd87295",
   "metadata": {},
   "source": [
    "# Write a Python program to get unique values from a list"
   ]
  },
  {
   "cell_type": "code",
   "execution_count": 9,
   "id": "fad2450d",
   "metadata": {},
   "outputs": [
    {
     "name": "stdout",
     "output_type": "stream",
     "text": [
      "the unique values from 1st list is\n",
      "1\n",
      "3\n",
      "2\n",
      "4\n",
      "5\n"
     ]
    }
   ],
   "source": [
    "def unique(list1):\n",
    " \n",
    "    unique_list = []\n",
    " \n",
    "    for x in list1:\n",
    "        # check if exists in unique_list or not\n",
    "        if x not in unique_list:\n",
    "            unique_list.append(x)\n",
    "    # print list\n",
    "    for x in unique_list:\n",
    "        print (x)\n",
    " \n",
    " \n",
    "list1 = [1,3,2,4,1,3,5]\n",
    "print(\"the unique values from 1st list is\")\n",
    "unique(list1)"
   ]
  },
  {
   "cell_type": "markdown",
   "id": "b3bc1598",
   "metadata": {},
   "source": [
    "# Write a Python program to split a list into different variables."
   ]
  },
  {
   "cell_type": "code",
   "execution_count": 10,
   "id": "93227d36",
   "metadata": {},
   "outputs": [
    {
     "name": "stdout",
     "output_type": "stream",
     "text": [
      "('red', '0', '1')\n",
      "('yellow', '4', '5')\n",
      "('pink', '6', '7')\n"
     ]
    }
   ],
   "source": [
    "color = [(\"red\", \"0\", \"1\"), (\"yellow\", \"4\", \"5\"),\n",
    "         (\"pink\", \"6\", \"7\")]\n",
    "var1, var2, var3 = color\n",
    "print(var1)\n",
    "print(var2)\n",
    "print(var3)\n"
   ]
  },
  {
   "cell_type": "markdown",
   "id": "8ad5355e",
   "metadata": {},
   "source": [
    "# Write a Python program to check whether an element exists within a tuple"
   ]
  },
  {
   "cell_type": "code",
   "execution_count": 14,
   "id": "bafb0350",
   "metadata": {},
   "outputs": [
    {
     "name": "stdout",
     "output_type": "stream",
     "text": [
      "True\n",
      "False\n"
     ]
    }
   ],
   "source": [
    "tuple = (\"a\", 2, \"b\", \"c\", \"d\")\n",
    "print(\"a\" in tuple)\n",
    "print(5 in tuple)\n"
   ]
  },
  {
   "cell_type": "markdown",
   "id": "82333617",
   "metadata": {},
   "source": [
    "# Write a Python program to convert a list to a tuple."
   ]
  },
  {
   "cell_type": "code",
   "execution_count": 1,
   "id": "da88a66f",
   "metadata": {},
   "outputs": [
    {
     "name": "stdout",
     "output_type": "stream",
     "text": [
      "(1, 2, 3, 4)\n"
     ]
    }
   ],
   "source": [
    "def convert(list):\n",
    "    return tuple(list)\n",
    " \n",
    "list = [1, 2, 3, 4]\n",
    "print(convert(list))"
   ]
  },
  {
   "cell_type": "markdown",
   "id": "9f1355fe",
   "metadata": {},
   "source": [
    "# Write a Python program to find the repeated items of a tuple."
   ]
  },
  {
   "cell_type": "code",
   "execution_count": 2,
   "id": "8c36d363",
   "metadata": {},
   "outputs": [
    {
     "name": "stdout",
     "output_type": "stream",
     "text": [
      "(2, 4, 5, 6, 2, 3, 4, 4, 7)\n",
      "3\n"
     ]
    }
   ],
   "source": [
    "tuplex = 2, 4, 5, 6, 2, 3, 4, 4, 7 \n",
    "print(tuplex)\n",
    "count = tuplex.count(4)\n",
    "print(count)"
   ]
  },
  {
   "cell_type": "markdown",
   "id": "267dc226",
   "metadata": {},
   "source": [
    "# Write a Python program to remove an empty tuple(s) from a list of tuples"
   ]
  },
  {
   "cell_type": "code",
   "execution_count": 6,
   "id": "945dea9a",
   "metadata": {},
   "outputs": [
    {
     "name": "stdout",
     "output_type": "stream",
     "text": [
      "[('ram', '15', '8'), ('laxman', 'sita'), ('krishna', 'akbar', '45'), ('', '')]\n"
     ]
    }
   ],
   "source": [
    "def Remove(tuples):\n",
    "    tuples = [t for t in tuples if t]\n",
    "    return tuples\n",
    " \n",
    "# Driver Code\n",
    "tuples = [(), ('ram','15','8'), (), ('laxman', 'sita'),\n",
    "          ('krishna', 'akbar', '45'), ('',''),()]\n",
    "print(Remove(tuples))"
   ]
  }
 ],
 "metadata": {
  "kernelspec": {
   "display_name": "Python 3 (ipykernel)",
   "language": "python",
   "name": "python3"
  },
  "language_info": {
   "codemirror_mode": {
    "name": "ipython",
    "version": 3
   },
   "file_extension": ".py",
   "mimetype": "text/x-python",
   "name": "python",
   "nbconvert_exporter": "python",
   "pygments_lexer": "ipython3",
   "version": "3.11.4"
  }
 },
 "nbformat": 4,
 "nbformat_minor": 5
}
